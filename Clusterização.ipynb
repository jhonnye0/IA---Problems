{
  "nbformat": 4,
  "nbformat_minor": 0,
  "metadata": {
    "colab": {
      "name": "Cluster",
      "provenance": [],
      "toc_visible": true,
      "authorship_tag": "ABX9TyP8f77eXopep/8SH0kAaPnM"
    },
    "kernelspec": {
      "name": "python3",
      "display_name": "Python 3"
    }
  },
  "cells": [
    {
      "cell_type": "code",
      "metadata": {
        "id": "9dAw9p4p04rS"
      },
      "source": [
        "import numpy as np\n",
        "import pandas as pd\n",
        "\n",
        "from sklearn.cluster import DBSCAN\n",
        "from sklearn import metrics"
      ],
      "execution_count": 1,
      "outputs": []
    },
    {
      "cell_type": "code",
      "metadata": {
        "id": "ZDqef5F20nfV",
        "outputId": "7e44c62b-ece0-4026-84af-0c1b7ba894e4",
        "colab": {
          "base_uri": "https://localhost:8080/",
          "height": 424
        }
      },
      "source": [
        "coordenadas = pd.read_csv('/content/coords.csv')\n",
        "coordenadas"
      ],
      "execution_count": 2,
      "outputs": [
        {
          "output_type": "execute_result",
          "data": {
            "text/html": [
              "<div>\n",
              "<style scoped>\n",
              "    .dataframe tbody tr th:only-of-type {\n",
              "        vertical-align: middle;\n",
              "    }\n",
              "\n",
              "    .dataframe tbody tr th {\n",
              "        vertical-align: top;\n",
              "    }\n",
              "\n",
              "    .dataframe thead th {\n",
              "        text-align: right;\n",
              "    }\n",
              "</style>\n",
              "<table border=\"1\" class=\"dataframe\">\n",
              "  <thead>\n",
              "    <tr style=\"text-align: right;\">\n",
              "      <th></th>\n",
              "      <th>latitude</th>\n",
              "      <th>longitude</th>\n",
              "    </tr>\n",
              "  </thead>\n",
              "  <tbody>\n",
              "    <tr>\n",
              "      <th>0</th>\n",
              "      <td>19.111841</td>\n",
              "      <td>72.910729</td>\n",
              "    </tr>\n",
              "    <tr>\n",
              "      <th>1</th>\n",
              "      <td>19.111342</td>\n",
              "      <td>72.908387</td>\n",
              "    </tr>\n",
              "    <tr>\n",
              "      <th>2</th>\n",
              "      <td>19.137815</td>\n",
              "      <td>72.914085</td>\n",
              "    </tr>\n",
              "    <tr>\n",
              "      <th>3</th>\n",
              "      <td>19.119677</td>\n",
              "      <td>72.905081</td>\n",
              "    </tr>\n",
              "    <tr>\n",
              "      <th>4</th>\n",
              "      <td>19.119677</td>\n",
              "      <td>72.905081</td>\n",
              "    </tr>\n",
              "    <tr>\n",
              "      <th>...</th>\n",
              "      <td>...</td>\n",
              "      <td>...</td>\n",
              "    </tr>\n",
              "    <tr>\n",
              "      <th>64</th>\n",
              "      <td>19.113827</td>\n",
              "      <td>72.893833</td>\n",
              "    </tr>\n",
              "    <tr>\n",
              "      <th>65</th>\n",
              "      <td>19.119677</td>\n",
              "      <td>72.905081</td>\n",
              "    </tr>\n",
              "    <tr>\n",
              "      <th>66</th>\n",
              "      <td>19.114100</td>\n",
              "      <td>72.894985</td>\n",
              "    </tr>\n",
              "    <tr>\n",
              "      <th>67</th>\n",
              "      <td>19.107491</td>\n",
              "      <td>72.901760</td>\n",
              "    </tr>\n",
              "    <tr>\n",
              "      <th>68</th>\n",
              "      <td>19.119677</td>\n",
              "      <td>72.905081</td>\n",
              "    </tr>\n",
              "  </tbody>\n",
              "</table>\n",
              "<p>69 rows × 2 columns</p>\n",
              "</div>"
            ],
            "text/plain": [
              "     latitude  longitude\n",
              "0   19.111841  72.910729\n",
              "1   19.111342  72.908387\n",
              "2   19.137815  72.914085\n",
              "3   19.119677  72.905081\n",
              "4   19.119677  72.905081\n",
              "..        ...        ...\n",
              "64  19.113827  72.893833\n",
              "65  19.119677  72.905081\n",
              "66  19.114100  72.894985\n",
              "67  19.107491  72.901760\n",
              "68  19.119677  72.905081\n",
              "\n",
              "[69 rows x 2 columns]"
            ]
          },
          "metadata": {
            "tags": []
          },
          "execution_count": 2
        }
      ]
    },
    {
      "cell_type": "code",
      "metadata": {
        "id": "b2PunGsHBaSa",
        "outputId": "4f0e4499-7252-452e-d560-899e4901ff63",
        "colab": {
          "base_uri": "https://localhost:8080/"
        }
      },
      "source": [
        "# #############################################################################\n",
        "# Compute DBSCAN\n",
        "db = DBSCAN(eps=3.5/6371., min_samples=3, algorithm='ball_tree', metric='haversine').fit(np.radians(coordenadas))\n",
        "core_samples_mask = np.zeros_like(db.labels_, dtype=bool)\n",
        "core_samples_mask[db.core_sample_indices_] = True\n",
        "labels = db.labels_\n",
        "\n",
        "coord_l = coordenadas.copy()\n",
        "coord_l['labels'] = labels\n",
        "\n",
        "# Number of clusters in labels, ignoring noise if present.\n",
        "n_clusters_ = len(set(labels)) - (1 if -1 in labels else 0)\n",
        "n_noise_ = list(labels).count(-1)\n",
        "\n",
        "print('Estimated number of clusters: %d' % n_clusters_)\n",
        "print('Estimated number of noise points: %d' % n_noise_)\n",
        "print(\"Silhouette Coefficient: %0.3f\" % metrics.silhouette_score(coordenadas, labels))\n",
        "# #############################################################################"
      ],
      "execution_count": 3,
      "outputs": [
        {
          "output_type": "stream",
          "text": [
            "Estimated number of clusters: 4\n",
            "Estimated number of noise points: 2\n",
            "Silhouette Coefficient: 0.938\n"
          ],
          "name": "stdout"
        }
      ]
    },
    {
      "cell_type": "code",
      "metadata": {
        "id": "YSmksrlB09_Y",
        "outputId": "15ccff79-a13d-4e1d-a6cb-56e5afa3c5cb",
        "colab": {
          "base_uri": "https://localhost:8080/",
          "height": 281
        }
      },
      "source": [
        "# #############################################################################\n",
        "# Plot result\n",
        "import matplotlib.pyplot as plt\n",
        "\n",
        "# Black removed and is used for noise instead.\n",
        "unique_labels = set(labels)\n",
        "colors = [plt.cm.Spectral(each) for each in np.linspace(0, 1, len(unique_labels))]\n",
        "\n",
        "for k, col in zip(unique_labels, colors):\n",
        "    if k == -1:\n",
        "      # Black used for noise.\n",
        "      col = [0, 0, 0, 1]\n",
        "\n",
        "    class_member_mask = (labels == k)\n",
        "\n",
        "    xy = coord_l[class_member_mask & core_samples_mask]\n",
        "    plt.plot(xy['latitude'], xy['longitude'], 'o', markerfacecolor=tuple(col), markeredgecolor='k', markersize=14)\n",
        "\n",
        "    xy = coordenadas[class_member_mask & ~core_samples_mask]\n",
        "    plt.plot(xy['latitude'], xy['longitude'], 'o', markerfacecolor=tuple(col), markeredgecolor='k', markersize=6)\n",
        "\n",
        "plt.title('Estimated number of clusters: %d' % n_clusters_)\n",
        "plt.show()"
      ],
      "execution_count": 4,
      "outputs": [
        {
          "output_type": "display_data",
          "data": {
            "image/png": "[encoded data removed]",
            "text/plain": [
              "<Figure size 432x288 with 1 Axes>"
            ]
          },
          "metadata": {
            "tags": [],
            "needs_background": "light"
          }
        }
      ]
    }
  ]
}